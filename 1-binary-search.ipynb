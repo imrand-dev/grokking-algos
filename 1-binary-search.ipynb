{
 "cells": [
  {
   "cell_type": "markdown",
   "id": "97b3c982-4fd3-4d58-a5a5-6fbe756a8d9f",
   "metadata": {},
   "source": [
    "# Chapter 1 - Introduction to Algorithms\n",
    "\n",
    "With binary search, you guess the middle number and eliminate half the remaining numbers every time.\n",
    "\n",
    "When you search for an element using simple search, in the worst case, you might have to look at every single element. So for a list of eight numbers, you’d have to check eight numbers at most. For binary search, you have to check `log n`  elements in the worst case."
   ]
  },
  {
   "cell_type": "code",
   "execution_count": 1,
   "id": "30eb19bb-a1b9-4d59-8b5f-b68260baf6ab",
   "metadata": {},
   "outputs": [],
   "source": [
    "# O(log n) | O(1)\n",
    "def binary_search(arr, item):\n",
    "    low = 0\n",
    "    high = len(arr)\n",
    "    \n",
    "    while low < high:\n",
    "        mid = (low + high) // 2\n",
    "        guess = arr[mid]\n",
    "        \n",
    "        if guess == item:\n",
    "            return mid\n",
    "        \n",
    "        if guess > item:\n",
    "            high = mid\n",
    "        else:\n",
    "            low = mid + 1\n",
    "    \n",
    "    return -1"
   ]
  },
  {
   "cell_type": "code",
   "execution_count": 2,
   "id": "a1a581fb-542b-41bb-b8a7-0880419a973f",
   "metadata": {},
   "outputs": [
    {
     "data": {
      "text/plain": [
       "1"
      ]
     },
     "execution_count": 2,
     "metadata": {},
     "output_type": "execute_result"
    }
   ],
   "source": [
    "binary_search([ 1, 3, 5, 7, 9 ], 3)"
   ]
  },
  {
   "cell_type": "code",
   "execution_count": 3,
   "id": "80faec1a-b9d9-4d20-8b1c-1a9c4ddacfef",
   "metadata": {},
   "outputs": [
    {
     "data": {
      "text/plain": [
       "-1"
      ]
     },
     "execution_count": 3,
     "metadata": {},
     "output_type": "execute_result"
    }
   ],
   "source": [
    "binary_search([ 1, 3, 5, 7, 9, -5 ], -1)"
   ]
  },
  {
   "cell_type": "markdown",
   "id": "6877f576-3aad-4cb7-bbe5-906ebb22aac3",
   "metadata": {},
   "source": [
    "## Linear Search"
   ]
  },
  {
   "cell_type": "code",
   "execution_count": 4,
   "id": "fc1fc010-5ebf-4ac3-b72f-457e41eaa3c4",
   "metadata": {},
   "outputs": [],
   "source": [
    "# O(n) | O(1)\n",
    "def linear_search(arr, item):\n",
    "    for idx, element in enumerate(arr):\n",
    "        if element == item:\n",
    "            return idx\n",
    "    \n",
    "    return -1"
   ]
  },
  {
   "cell_type": "code",
   "execution_count": 5,
   "id": "50b1678c-513a-4967-a0d0-c0fd8bfd85b3",
   "metadata": {},
   "outputs": [
    {
     "data": {
      "text/plain": [
       "1"
      ]
     },
     "execution_count": 5,
     "metadata": {},
     "output_type": "execute_result"
    }
   ],
   "source": [
    "linear_search([ 1, 3, 5, 7, 9 ], 3)"
   ]
  },
  {
   "cell_type": "code",
   "execution_count": 6,
   "id": "6ecf0432-038a-406b-8b23-086c9ec01db5",
   "metadata": {},
   "outputs": [
    {
     "data": {
      "text/plain": [
       "-1"
      ]
     },
     "execution_count": 6,
     "metadata": {},
     "output_type": "execute_result"
    }
   ],
   "source": [
    "linear_search([ 1, 3, 5, 7, 9, -5 ], -1)"
   ]
  },
  {
   "cell_type": "markdown",
   "id": "0a00cbde-1241-48ce-aede-9d56d82e51c5",
   "metadata": {},
   "source": [
    "If the maximum  number of guesses is the same as the size of the list. This is called linear time. \n",
    "Binary search is different. If the list is 100 items long, it takes at most  7 guesses. If the list is 4 billion items, it takes at most 32 guesses. \n",
    "\n",
    "![time-complexity-of search](https://i.ibb.co/ZTSzbXD/image.png)\n",
    "\n",
    "run times for binary search and simple search don’t grow at the same rate...\n",
    "\n",
    "![](https://i.ibb.co/xYqk3KM/image.png)\n",
    "\n",
    "> big O notation counts the number of operations...\n",
    "\n",
    "### Some common big O run times\n",
    "\n",
    "- ${O(log \\ n)}$, also known as log time. Example: binary search\n",
    "- ${O(n)}$, also known as linear time. Example: linear search.\n",
    "- ${O(n * log \\ n)}$. Example: a fast sorting algorithm, like quicksort, mergesort\n",
    "- ${O(n^{2})}$. Example: a slow sorting algorithm, like selection sort\n",
    "- ${O(n!)}$, Example: a really slow algorithm, like the traveling salesperson \n",
    "\n",
    "![big-o](https://i.ibb.co/cLcr25c/image.png)"
   ]
  },
  {
   "cell_type": "markdown",
   "id": "5e33aad6-df7e-4054-9b1a-899f7c72d823",
   "metadata": {
    "tags": []
   },
   "source": [
    "## Exercises\n",
    "\n",
    "#### 1.1 \n",
    "\n",
    "Suppose you have a sorted list of 128 names, and you’re searching\n",
    "through it using binary search. What’s the maximum number of\n",
    "steps it would take?\n",
    "\n",
    "- Answer # 7 steps\n",
    "\n",
    "#### 1.2 \n",
    "\n",
    "Suppose you double the size of the list. What’s the maximum\n",
    "number of steps now?\n",
    "\n",
    "- Answer # 8 steps\n",
    "\n",
    "#### 1.3\n",
    "\n",
    "You have a name, and you want to find the person’s phone number \n",
    "in the phone book. \n",
    "\n",
    "- Answer # takes `O(log n)`\n",
    "\n",
    "#### 1.4\n",
    "\n",
    "You have a phone number, and you want to find the person’s name \n",
    "in the phone book. (Hint: You’ll have to search through the whole \n",
    "book!)\n",
    "\n",
    "- Answer # takes `O(n)`\n",
    "\n",
    "#### 1.5\n",
    "\n",
    "You want to read the numbers of every person in the phone book.\n",
    "\n",
    "- Answer # takes `O(n)`\n",
    "\n",
    "#### 1.6\n",
    "\n",
    "You want to read the numbers of just the As. (This is a tricky one! \n",
    "It involves concepts that are covered more in chapter 4. Read the \n",
    "answer—you may be surprised!)\n",
    "\n",
    "- Answer # takes `O(n)`. \n",
    "\n",
    "You may think, “I’m only doing this for 1 out of  26 characters, so the run time should be `O(n/26)`.” A simple rule to remember is to ignore numbers that are added, subtracted, multiplied, or divided. None of these are correct big O run times: `O(n + 26)`, `O(n – 26)`, `O(n * 26)`, `O(n/26)`. They’re all the same as `O(n)`...\n",
    "\n",
    "### Recap\n",
    "\n",
    "- Binary search is a lot faster than simple search as your array gets bigger.\n",
    "- `O(log n)` is faster than `O(n)`, and it gets a lot faster once the list of items you’re searching through grows.\n",
    "- Algorithm speed isn’t measured in seconds.\n",
    "- Algorithm times are measured in terms of growth of an algorithm.\n",
    "- Algorithm times are written in big O notation."
   ]
  }
 ],
 "metadata": {
  "kernelspec": {
   "display_name": "Python 3 (system-wide)",
   "language": "python",
   "name": "python3"
  },
  "language_info": {
   "codemirror_mode": {
    "name": "ipython",
    "version": 3
   },
   "file_extension": ".py",
   "mimetype": "text/x-python",
   "name": "python",
   "nbconvert_exporter": "python",
   "pygments_lexer": "ipython3",
   "version": "3.10.12"
  }
 },
 "nbformat": 4,
 "nbformat_minor": 5
}
